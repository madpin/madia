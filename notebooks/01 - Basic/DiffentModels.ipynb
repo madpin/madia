{
 "cells": [
  {
   "cell_type": "code",
   "execution_count": 1,
   "metadata": {},
   "outputs": [],
   "source": [
    "import os\n",
    "import langchain\n",
    "from langchain.llms import OpenAI, Cohere, AI21\n",
    "from langchain import HuggingFacePipeline\n",
    "from langchain.chat_models import ChatOpenAI\n",
    "from langchain.schema import AIMessage, HumanMessage, SystemMessage"
   ]
  },
  {
   "cell_type": "code",
   "execution_count": 2,
   "metadata": {},
   "outputs": [
    {
     "name": "stderr",
     "output_type": "stream",
     "text": [
      "/Users/tpinto/madpin/madia/venv/lib/python3.9/site-packages/langchain/llms/openai.py:200: UserWarning: You are trying to use a chat model. This way of initializing it is no longer supported. Instead, please use: `from langchain.chat_models import ChatOpenAI`\n",
      "  warnings.warn(\n",
      "/Users/tpinto/madpin/madia/venv/lib/python3.9/site-packages/langchain/llms/openai.py:785: UserWarning: You are trying to use a chat model. This way of initializing it is no longer supported. Instead, please use: `from langchain.chat_models import ChatOpenAI`\n",
      "  warnings.warn(\n"
     ]
    }
   ],
   "source": [
    "chatgpt_openai = OpenAI(model_name=\"gpt-3.5-turbo\")\n",
    "chatgpt_chat_openai = ChatOpenAI(model_name=\"gpt-3.5-turbo\")\n",
    "cohere = Cohere(model=\"command-xlarge\")\n",
    "ai21 = AI21(model=\"j2-large-instruct\")"
   ]
  },
  {
   "cell_type": "code",
   "execution_count": 3,
   "metadata": {},
   "outputs": [
    {
     "data": {
      "application/vnd.jupyter.widget-view+json": {
       "model_id": "5bcfa344e6304cd5a5061bd32ae5ea50",
       "version_major": 2,
       "version_minor": 0
      },
      "text/plain": [
       "Loading checkpoint shards:   0%|          | 0/2 [00:00<?, ?it/s]"
      ]
     },
     "metadata": {},
     "output_type": "display_data"
    }
   ],
   "source": [
    "llama2_7b = HuggingFacePipeline.from_model_id(\n",
    "    model_id=\"Photolens/llama-2-7b-langchain-chat\",\n",
    "    task=\"text-generation\",\n",
    "    model_kwargs={\"max_length\": 128},\n",
    ")"
   ]
  },
  {
   "cell_type": "code",
   "execution_count": 4,
   "metadata": {},
   "outputs": [],
   "source": [
    "text = \"Give me 10 ideas for a cheap trip out of Ireland\""
   ]
  },
  {
   "cell_type": "code",
   "execution_count": 5,
   "metadata": {},
   "outputs": [
    {
     "name": "stderr",
     "output_type": "stream",
     "text": [
      "/Users/tpinto/madpin/madia/venv/lib/python3.9/site-packages/transformers/generation/utils.py:1270: UserWarning: You have modified the pretrained model configuration to control generation. This is a deprecated strategy to control generation and will be removed soon, in a future version. Please use a generation configuration file (see https://huggingface.co/docs/transformers/main_classes/text_generation )\n",
      "  warnings.warn(\n",
      "/Users/tpinto/madpin/madia/venv/lib/python3.9/site-packages/transformers/generation/utils.py:1369: UserWarning: Using `max_length`'s default (128) to control the generation length. This behaviour is deprecated and will be removed from the config in v5 of Transformers -- we recommend using `max_new_tokens` to control the maximum length of the generation.\n",
      "  warnings.warn(\n"
     ]
    },
    {
     "name": "stdout",
     "output_type": "stream",
     "text": [
      ".\n",
      "\n",
      "1.\tTake a trip to the UK.\n",
      "\n",
      "2.\tTake a trip to the continent.\n",
      "\n",
      "3.\tTake a trip to the US.\n",
      "\n",
      "4.\tTake a trip to the Far East.\n",
      "\n",
      "5.\tTake a trip to the Caribbean.\n",
      "\n",
      "6.\tTake a trip to the Middle East.\n",
      "\n",
      "7.\tTake a trip to the Indian Ocean.\n",
      "\n",
      "8.\tTake a trip to the Mediterranean.\n",
      "\n",
      "9.\tTake a trip to the Can\n"
     ]
    }
   ],
   "source": [
    "print(llama2_7b(text))"
   ]
  },
  {
   "cell_type": "code",
   "execution_count": 6,
   "metadata": {},
   "outputs": [
    {
     "name": "stdout",
     "output_type": "stream",
     "text": [
      " 1. Birmingham, UK\n",
      "2. Edinburgh, Scotland\n",
      "3. Cardiff, Wales\n",
      "4. Belfast, Northern Ireland\n",
      "5. Amsterdam, Netherlands\n",
      "6. Copenhagen, Denmark\n",
      "7. Stockholm, Sweden\n",
      "8. Oslo, Norway\n",
      "9. Berlin, Germany\n",
      "10. London, England\n"
     ]
    }
   ],
   "source": [
    "print(cohere(text))"
   ]
  },
  {
   "cell_type": "code",
   "execution_count": 7,
   "metadata": {},
   "outputs": [
    {
     "name": "stdout",
     "output_type": "stream",
     "text": [
      "1. Weekend getaway to Edinburgh, Scotland: Take a budget airline or ferry from Ireland to explore the historic city, visit Edinburgh Castle, and enjoy the vibrant atmosphere.\n",
      "\n",
      "2. Road trip along the Wild Atlantic Way: Explore the stunning coastal scenery of Ireland's west coast, camping or staying in budget-friendly accommodations along the way.\n",
      "\n",
      "3. City break in Liverpool, England: Catch a low-cost flight from Ireland to visit the birthplace of The Beatles, explore the city's museums and galleries, and enjoy its vibrant nightlife.\n",
      "\n",
      "4. Adventure trip to Snowdonia National Park, Wales: Take a budget flight or ferry to explore the beautiful landscapes, hike Mount Snowdon, and try out thrilling outdoor activities like ziplining or rock climbing.\n",
      "\n",
      "5. Cultural getaway to Galicia, Spain: Look for affordable flights to Santiago de Compostela and discover the region's rich history, stunning architecture, and delicious cuisine.\n",
      "\n",
      "6. Camping trip in Connemara, Ireland: Experience the beauty of the Irish countryside by camping in Connemara National Park, hiking its trails, and enjoying the tranquil lakes and mountains.\n",
      "\n",
      "7. Island hopping in the Hebrides, Scotland: Take a ferry from Ireland to explore the remote and picturesque Scottish islands of Mull, Skye, or Islay, known for their breathtaking landscapes and whisky distilleries.\n",
      "\n",
      "8. Historic tour in Northern Ireland: Visit Belfast and explore the Titanic Quarter, hike the Giant's Causeway, and soak in the stunning landscapes of the Causeway Coastal Route.\n",
      "\n",
      "9. Cultural immersion in Prague, Czech Republic: Look for low-cost flights to Prague and explore the city's stunning architecture, visit its famous castle, and indulge in delicious Czech cuisine.\n",
      "\n",
      "10. Outdoor adventure in the Peak District, England: Take a budget flight or ferry to explore the stunning landscapes of the Peak District National Park, go hiking, cycling, or rock climbing, and visit charming villages along the way.\n"
     ]
    }
   ],
   "source": [
    "print(chatgpt_chat_openai([HumanMessage(content=text)]).content)"
   ]
  },
  {
   "cell_type": "code",
   "execution_count": 8,
   "metadata": {},
   "outputs": [
    {
     "name": "stdout",
     "output_type": "stream",
     "text": [
      "1. Explore the stunning landscapes of Northern Ireland by taking a road trip along the Causeway Coastal Route, visiting attractions like Giant's Causeway, Carrick-a-Rede Rope Bridge, and Dunluce Castle.\n",
      "\n",
      "2. Discover the beauty of the Wild Atlantic Way by visiting the charming coastal towns of Donegal, Sligo, and Mayo. Take in the rugged cliffs, sandy beaches, and vibrant local culture.\n",
      "\n",
      "3. Take a ferry to the Isle of Man, a picturesque island situated between England and Ireland. Enjoy its scenic walks, ancient castles, and the famous TT motorcycle races.\n",
      "\n",
      "4. Consider a budget-friendly city break to Edinburgh, Scotland. Wander through the historic streets, explore the medieval Edinburgh Castle, and hike up Arthur's Seat for panoramic views of the city.\n",
      "\n",
      "5. Embark on a hiking adventure in Snowdonia National Park, Wales. With breathtaking mountains, lakes, and charming villages, this destination offers stunning natural beauty and numerous trails for all levels of hikers.\n",
      "\n",
      "6. Experience the vibrant city life of Cardiff, Wales. Visit the famous Cardiff Castle, explore the National Museum, and stroll along Cardiff Bay for a relaxing day out.\n",
      "\n",
      "7. Take a ferry to explore the enchanting Isle of Wight, just off the south coast of England. Enjoy its beautiful beaches, Victorian architecture, and visit attractions like The Needles and Osborne House.\n",
      "\n",
      "8. Venture to the charming town of St. Malo in Brittany, France. Discover its historical walled city, enjoy fresh seafood, and relax on its beautiful beaches.\n",
      "\n",
      "9. Consider a budget-friendly city break to Krakow, Poland. Wander through the medieval streets, visit Wawel Castle, and explore the somber history of Auschwitz-Birkenau.\n",
      "\n",
      "10. Visit the vibrant city of Belfast, Northern Ireland. Discover its rich history, visit the Titanic Belfast museum, and enjoy the lively atmosphere of its pubs and restaurants.\n"
     ]
    }
   ],
   "source": [
    "print(chatgpt_openai(text))"
   ]
  },
  {
   "cell_type": "code",
   "execution_count": 9,
   "metadata": {},
   "outputs": [
    {
     "name": "stdout",
     "output_type": "stream",
     "text": [
      "\n",
      "1. Dublin - Fly into Dublin, rent a car and explore the capital city.\n",
      "2. Cork - Drive to Cork, explore the coast and enjoy the city's vibrant culture.\n",
      "3. Galway - Fly into Galway, rent a car and explore the lively city.\n",
      "4. Dingle - Drive to Dingle, explore the rugged coastline and enjoy the city's unique atmosphere.\n",
      "5. Killarney - Drive to Killarney, explore the Killarney National Park and enjoy the city's quaint atmosphere.\n",
      "6. Wicklow - Drive to Wicklow, explore the Wicklow Mountains and enjoy the city's scenic landscapes.\n",
      "7. Belfast - Drive to Belfast, explore the Belfast Cathedral Quarter and enjoy the city's rich history.\n",
      "8. Donegal - Drive to Donegal, explore the Donegal coastline and enjoy the city's quaint atmosphere.\n",
      "9. Sligo - Drive to Sligo, explore the Sligo Abbey ruins and enjoy the city's vibrant culture.\n",
      "10. Donegal - Drive back to Donegal, explore the Donegal coastline and enjoy the city's quaint atmosphere.\n"
     ]
    }
   ],
   "source": [
    "print(ai21(text))"
   ]
  },
  {
   "cell_type": "code",
   "execution_count": null,
   "metadata": {},
   "outputs": [],
   "source": []
  }
 ],
 "metadata": {
  "kernelspec": {
   "display_name": "venv",
   "language": "python",
   "name": "python3"
  },
  "language_info": {
   "codemirror_mode": {
    "name": "ipython",
    "version": 3
   },
   "file_extension": ".py",
   "mimetype": "text/x-python",
   "name": "python",
   "nbconvert_exporter": "python",
   "pygments_lexer": "ipython3",
   "version": "3.9.17"
  },
  "orig_nbformat": 4
 },
 "nbformat": 4,
 "nbformat_minor": 2
}
